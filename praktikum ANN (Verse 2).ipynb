{
 "cells": [
  {
   "cell_type": "raw",
   "metadata": {},
   "source": [
    "Aminah Nurrahmawati\n",
    "20220021\n",
    "ANN (Verse 2)"
   ]
  },
  {
   "cell_type": "code",
   "execution_count": 80,
   "metadata": {},
   "outputs": [],
   "source": [
    "import numpy as np\n",
    "import matplotlib.pyplot as plt\n",
    "import pandas as pd\n"
   ]
  },
  {
   "cell_type": "code",
   "execution_count": 54,
   "metadata": {},
   "outputs": [
    {
     "name": "stdout",
     "output_type": "stream",
     "text": [
      "Shape of X (150, 4)\n",
      "Shape of y (150,)\n",
      "Examples of X\n",
      " [[5.1 3.5 1.4 0.2]\n",
      " [4.9 3.  1.4 0.2]\n",
      " [4.7 3.2 1.3 0.2]]\n",
      "Examples of y\n",
      " [0 0 0]\n"
     ]
    }
   ],
   "source": [
    "#loading data set\n",
    "#loading data set\n",
    "df = pd.read_csv('iris_species.csv')\n",
    "df.loc[df[\"Species\"]==\"Iris-setosa\",\"Species\"]=0\n",
    "df.loc[df[\"Species\"]==\"Iris-versicolor\",\"Species\"]=1\n",
    "df.loc[df[\"Species\"]==\"Iris-virginica\",\"Species\"]=2\n",
    "X=df.iloc[:,1:5].values\n",
    "y=df.iloc[:,5].values\n",
    "\n",
    "print(\"Shape of X\",X.shape)\n",
    "print(\"Shape of y\",y.shape)\n",
    "print(\"Examples of X\\n\",X[:3])\n",
    "print(\"Examples of y\\n\",y[:3])"
   ]
  },
  {
   "cell_type": "code",
   "execution_count": 55,
   "metadata": {},
   "outputs": [],
   "source": [
    "from sklearn.preprocessing import LabelEncoder, OneHotEncoder\n",
    "\n",
    "labelencoder_X_1 = LabelEncoder()\n",
    "X[:, 1] = labelencoder_X_1.fit_transform(X[:, 1])\n",
    "labelencoder_X_2 = LabelEncoder()\n",
    "X[:, 2] = labelencoder_X_2.fit_transform(X[:, 2])\n",
    "\n",
    "# remove categorical_features, it works 100% perfectly\n",
    "onehotencoder = OneHotEncoder()\n",
    "X = onehotencoder.fit_transform(X).toarray()\n",
    "X = X[:, 1:]"
   ]
  },
  {
   "cell_type": "code",
   "execution_count": 56,
   "metadata": {},
   "outputs": [],
   "source": [
    "from sklearn.model_selection import train_test_split\n",
    "X_train, X_test, y_train, y_test = train_test_split(X, y, test_size=0.2, random_state=0)"
   ]
  },
  {
   "cell_type": "code",
   "execution_count": 69,
   "metadata": {},
   "outputs": [
    {
     "name": "stdout",
     "output_type": "stream",
     "text": [
      "Shape of X (120, 122)\n",
      "Shape of X (120,)\n"
     ]
    }
   ],
   "source": [
    "from sklearn.preprocessing import StandardScaler\n",
    "sc = StandardScaler()\n",
    "X_train = sc.fit_transform(X_train)\n",
    "X_test = sc.transform(X_test)\n",
    "\n",
    "print(\"Shape of X\",X_train.shape)\n",
    "print(\"Shape of X\",y_train.shape)"
   ]
  },
  {
   "cell_type": "code",
   "execution_count": 72,
   "metadata": {},
   "outputs": [],
   "source": [
    "from tensorflow import keras\n",
    "from keras.models import Sequential\n",
    "from keras.layers import Dense\n",
    "\n",
    "\n",
    "# creating ANN classifier\n",
    "classifier = Sequential()\n",
    "# one rule to determine the number of hidden layers\n",
    "# is to average the number of input and output nodes\n",
    "classifier.add(Dense(units=6, input_dim=122, kernel_initializer='uniform', activation='relu'))\n",
    "# Add second hidden layers\n",
    "classifier.add(Dense(units=6, kernel_initializer='uniform', activation='relu'))\n",
    "# output layer\n",
    "# also replace activation function to sigmoid to have probabilities\n",
    "classifier.add(Dense(units=1, kernel_initializer='uniform', activation='sigmoid'))\n",
    "# compile the classifier\n",
    "# adam is a type of SGD\n",
    "# crossentropy is log loss function, for binary classification, use 'binary_crossentropy' \n",
    "# for multiclass classification, use 'categorical_crossentropy'\n",
    "classifier.compile(optimizer='adam', loss='binary_crossentropy', metrics=['accuracy'])"
   ]
  },
  {
   "cell_type": "code",
   "execution_count": 73,
   "metadata": {},
   "outputs": [
    {
     "name": "stdout",
     "output_type": "stream",
     "text": [
      "Epoch 1/10\n",
      "12/12 [==============================] - 17s 15ms/step - loss: 0.6917 - accuracy: 0.3215\n",
      "Epoch 2/10\n",
      "12/12 [==============================] - 0s 4ms/step - loss: 0.6843 - accuracy: 0.3153\n",
      "Epoch 3/10\n",
      "12/12 [==============================] - 0s 2ms/step - loss: 0.6743 - accuracy: 0.2410\n",
      "Epoch 4/10\n",
      "12/12 [==============================] - 0s 2ms/step - loss: 0.6642 - accuracy: 0.3174\n",
      "Epoch 5/10\n",
      "12/12 [==============================] - 0s 2ms/step - loss: 0.6552 - accuracy: 0.3427\n",
      "Epoch 6/10\n",
      "12/12 [==============================] - 0s 3ms/step - loss: 0.6314 - accuracy: 0.3073\n",
      "Epoch 7/10\n",
      "12/12 [==============================] - 0s 3ms/step - loss: 0.5945 - accuracy: 0.2963\n",
      "Epoch 8/10\n",
      "12/12 [==============================] - 0s 3ms/step - loss: 0.5331 - accuracy: 0.3062\n",
      "Epoch 9/10\n",
      "12/12 [==============================] - 0s 3ms/step - loss: 0.4611 - accuracy: 0.2752\n",
      "Epoch 10/10\n",
      "12/12 [==============================] - 0s 3ms/step - loss: 0.3674 - accuracy: 0.3045\n"
     ]
    },
    {
     "data": {
      "text/plain": [
       "<tensorflow.python.keras.callbacks.History at 0x1d966928370>"
      ]
     },
     "execution_count": 73,
     "metadata": {},
     "output_type": "execute_result"
    }
   ],
   "source": [
    "X_train = np.asarray(X_train).astype(np.float32)\n",
    "y_train = np.asarray(y_train).astype(np.float32)\n",
    "X_train\n",
    "classifier.fit(X_train, y_train, epochs=10, batch_size=10)"
   ]
  },
  {
   "cell_type": "code",
   "execution_count": 78,
   "metadata": {},
   "outputs": [
    {
     "name": "stdout",
     "output_type": "stream",
     "text": [
      "Accuracy of the dataset 100.0\n"
     ]
    }
   ],
   "source": [
    "prediction=classifier.predict(X_test)\n",
    "length=len(prediction)\n",
    "y_label=np.argmax(y_test,axis=0)\n",
    "predict_label=np.argmax(prediction,axis=1)\n",
    "\n",
    "accuracy=np.sum(y_label==predict_label)/length * 100 \n",
    "print(\"Accuracy of the dataset\",accuracy )"
   ]
  },
  {
   "cell_type": "code",
   "execution_count": null,
   "metadata": {},
   "outputs": [],
   "source": []
  }
 ],
 "metadata": {
  "kernelspec": {
   "display_name": "Python 3",
   "language": "python",
   "name": "python3"
  },
  "language_info": {
   "codemirror_mode": {
    "name": "ipython",
    "version": 3
   },
   "file_extension": ".py",
   "mimetype": "text/x-python",
   "name": "python",
   "nbconvert_exporter": "python",
   "pygments_lexer": "ipython3",
   "version": "3.8.3"
  }
 },
 "nbformat": 4,
 "nbformat_minor": 4
}
